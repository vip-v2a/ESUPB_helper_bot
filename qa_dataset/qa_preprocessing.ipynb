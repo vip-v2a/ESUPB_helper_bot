{
 "cells": [
  {
   "cell_type": "code",
   "execution_count": 1,
   "source": [
    "from collections import defaultdict\r\n",
    "import json\r\n",
    "import pandas as pd"
   ],
   "outputs": [],
   "metadata": {}
  },
  {
   "cell_type": "code",
   "execution_count": 29,
   "source": [
    "dfa = pd.read_excel('1. ключ, памят.xlsx')\r\n",
    "dfa = dfa.drop('абзац', axis=1)\r\n",
    "suffix = 'a'\r\n",
    "dfa[\"Номер\"] = dfa[\"Номер\"].apply(lambda x: str(x)+suffix)"
   ],
   "outputs": [],
   "metadata": {}
  },
  {
   "cell_type": "code",
   "execution_count": 10,
   "source": [
    "dfb = pd.read_excel('3. ЕСУПБ определения.xlsx', header=None)\r\n",
    "suffix = 'b'\r\n",
    "dfb.iloc[:, 1] = dfb.iloc[:, 1].apply(lambda x: str(x)+suffix)"
   ],
   "outputs": [],
   "metadata": {}
  },
  {
   "cell_type": "code",
   "execution_count": 11,
   "source": [
    "dfc = pd.read_excel('4. культура производства.xlsx')\r\n",
    "dfc = dfc.drop('абзац', axis=1)\r\n",
    "suffix = 'c'\r\n",
    "dfc.iloc[:, 1] = dfc.iloc[:, 1].apply(lambda x: str(x)+suffix)"
   ],
   "outputs": [],
   "metadata": {}
  },
  {
   "cell_type": "code",
   "execution_count": 12,
   "source": [
    "dfd = pd.read_excel('5. дикие животные.xlsx', header=None)\r\n",
    "suffix = 'd'\r\n",
    "dfd.iloc[:, 1] = dfd.iloc[:, 1].apply(lambda x: str(x)+suffix)"
   ],
   "outputs": [],
   "metadata": {}
  },
  {
   "cell_type": "code",
   "execution_count": 13,
   "source": [
    "dfe = pd.read_excel('6. ОПС.xlsx', header=None)\r\n",
    "suffix = 'e'\r\n",
    "dfe.iloc[:, 1] = dfe.iloc[:, 1].apply(lambda x: str(x)+suffix)"
   ],
   "outputs": [],
   "metadata": {}
  },
  {
   "cell_type": "code",
   "execution_count": null,
   "source": [
    "# dff = pd.read_csv(\"2. а1, газооп.csv\", header=None)\r\n",
    "# dff.to_excel('test.xlsx',header=False, index=False)\r\n",
    "# dff.iloc[:,0].values"
   ],
   "outputs": [],
   "metadata": {}
  },
  {
   "cell_type": "code",
   "execution_count": 15,
   "source": [
    "dff = pd.read_excel('2. A1.xlsx', header=None)\r\n",
    "suffix = 'f'\r\n",
    "dff.iloc[:, 1] = dff.iloc[:, 1].apply(lambda x: str(x)+suffix)"
   ],
   "outputs": [],
   "metadata": {}
  },
  {
   "cell_type": "code",
   "execution_count": 16,
   "source": [
    "def get_q_a_n(df):\r\n",
    "    qa_numbers = df.iloc[:,1].unique().tolist()\r\n",
    "    questions = df.iloc[:,[0,1]].drop_duplicates().dropna()\r\n",
    "    answers = df.iloc[:,[1,2]].drop_duplicates().dropna()\r\n",
    "\r\n",
    "    q_d = defaultdict(list)\r\n",
    "    for question in questions.values:\r\n",
    "        q, n = question\r\n",
    "        q_d[n].append(q)\r\n",
    "\r\n",
    "    a_d = defaultdict(list)\r\n",
    "    for answer in answers.values:\r\n",
    "        n, a = answer\r\n",
    "        a_d[n].append(a)\r\n",
    "    return qa_numbers, q_d, a_d\r\n",
    "\r\n",
    "\r\n",
    "def update_qa_base(df):\r\n",
    "    qa_numbers, q_d, a_d = get_q_a_n(df)\r\n",
    "    for n in qa_numbers:\r\n",
    "        qa_base[n] = {\r\n",
    "            \"questions\": q_d[n],\r\n",
    "            \"answer\": a_d[n]\r\n",
    "        }\r\n"
   ],
   "outputs": [],
   "metadata": {}
  },
  {
   "cell_type": "code",
   "execution_count": 30,
   "source": [
    "qa_base = dict()\r\n",
    "df_list = [dfa, dfb, dfc, dfe, dfd, dff]"
   ],
   "outputs": [],
   "metadata": {}
  },
  {
   "cell_type": "code",
   "execution_count": 31,
   "source": [
    "for cur_df in df_list:\r\n",
    "    update_qa_base(cur_df)"
   ],
   "outputs": [],
   "metadata": {}
  },
  {
   "cell_type": "code",
   "execution_count": 32,
   "source": [
    "with open('qa_base.json', 'w', encoding='utf-8') as outfile:\r\n",
    "    json.dump(qa_base, outfile, ensure_ascii=False, indent=4)"
   ],
   "outputs": [],
   "metadata": {}
  },
  {
   "cell_type": "code",
   "execution_count": 25,
   "source": [
    "print(dfa.iloc[20].values[2])"
   ],
   "outputs": [
    {
     "output_type": "stream",
     "name": "stdout",
     "text": [
      "Пути достижения целей - это предупреждение несчастных случаев, профессиональных заболеваний, аварий, инцидентов, пожаров, дорожно-транспортных происшествий на основе:\n",
      "Идентификации опасностей (выявление опасностей и их характеристик до наступления происшествий);\n",
      "Оценки и управления рисками в области производственной безопасности (определение возможности происшествия и их последствий, снижение возможности этих событий); \n",
      "Повышения компетентности работников, их представителей и вовлечение их в систему управления производственной безопасностью (обмен информацией с работниками о существующих опасностях для выбора наиболее эффективных путей устранения этих событий).\n"
     ]
    }
   ],
   "metadata": {}
  },
  {
   "cell_type": "code",
   "execution_count": 33,
   "source": [
    "for dfs in df_list:\r\n",
    "    dfs.columns = dfa.columns\r\n",
    "pd.concat(df_list).to_excel(\"База вопросов-ответов.xlsx\", index=False)"
   ],
   "outputs": [],
   "metadata": {}
  },
  {
   "cell_type": "code",
   "execution_count": null,
   "source": [
    "    \"Устройство на работу\": {\r\n",
    "        \"questions\": [\r\n",
    "            \"Как устроиться к вам на работу?\",\r\n",
    "            \"Как устроиться к вам?\",\r\n",
    "            \"Как работать у вас?\",\r\n",
    "            \"Хочу работать у вас\",\r\n",
    "            \"Возможно-ли устроиться к вам?\",\r\n",
    "            \"Можно-ли мне поработать у вас?\",\r\n",
    "            \"Хочу работать редактором у вас\"\r\n",
    "        ],\r\n",
    "        \"answer\": \"Если вы хотите устроиться к нам, напишите на почту game-of-verbs@gmail.com мини-эссе о себе и прикрепите ваше портфолио.\"\r\n",
    "    },"
   ],
   "outputs": [],
   "metadata": {}
  }
 ],
 "metadata": {
  "orig_nbformat": 4,
  "language_info": {
   "name": "python",
   "version": "3.8.7",
   "mimetype": "text/x-python",
   "codemirror_mode": {
    "name": "ipython",
    "version": 3
   },
   "pygments_lexer": "ipython3",
   "nbconvert_exporter": "python",
   "file_extension": ".py"
  },
  "kernelspec": {
   "name": "python3",
   "display_name": "Python 3.8.7 64-bit ('.venv': poetry)"
  },
  "interpreter": {
   "hash": "f12eca4e079eede99488e34c2a307f8f6b17bb31ee478beecb5e8d932539076f"
  }
 },
 "nbformat": 4,
 "nbformat_minor": 2
}