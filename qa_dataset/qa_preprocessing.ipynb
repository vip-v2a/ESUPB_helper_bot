{
 "cells": [
  {
   "cell_type": "code",
   "execution_count": 121,
   "source": [
    "from collections import defaultdict\r\n",
    "import json\r\n",
    "import pandas as pd"
   ],
   "outputs": [],
   "metadata": {}
  },
  {
   "cell_type": "code",
   "execution_count": 122,
   "source": [
    "dfa = pd.read_excel('1. ключ, памят.xlsx')\r\n",
    "dfa = dfa.drop('абзац', axis=1)\r\n",
    "suffix = 'a'\r\n",
    "dfa[\"Номер\"] = dfa[\"Номер\"].apply(lambda x: str(x)+suffix)"
   ],
   "outputs": [],
   "metadata": {}
  },
  {
   "cell_type": "code",
   "execution_count": 123,
   "source": [
    "dfb = pd.read_excel('3. ЕСУПБ определения.xlsx', header=None)\r\n",
    "suffix = 'b'\r\n",
    "dfb.iloc[:, 1] = dfb.iloc[:, 1].apply(lambda x: str(x)+suffix)"
   ],
   "outputs": [],
   "metadata": {}
  },
  {
   "cell_type": "code",
   "execution_count": 125,
   "source": [
    "dfc = pd.read_excel('4. культура производства.xlsx')\r\n",
    "dfc = dfc.drop('абзац', axis=1)\r\n",
    "suffix = 'c'\r\n",
    "dfc.iloc[:, 1] = dfc.iloc[:, 1].apply(lambda x: str(x)+suffix)"
   ],
   "outputs": [],
   "metadata": {}
  },
  {
   "cell_type": "code",
   "execution_count": 126,
   "source": [
    "dfd = pd.read_excel('5. дикие животные.xlsx', header=None)\r\n",
    "suffix = 'd'\r\n",
    "dfd.iloc[:, 1] = dfd.iloc[:, 1].apply(lambda x: str(x)+suffix)"
   ],
   "outputs": [],
   "metadata": {}
  },
  {
   "cell_type": "code",
   "execution_count": 127,
   "source": [
    "dfe = pd.read_excel('6. ОПС.xlsx', header=None)\r\n",
    "suffix = 'e'\r\n",
    "dfe.iloc[:, 1] = dfe.iloc[:, 1].apply(lambda x: str(x)+suffix)"
   ],
   "outputs": [],
   "metadata": {}
  },
  {
   "cell_type": "code",
   "execution_count": null,
   "source": [
    "dff = pd.read_csv(\"2. а1, газооп.csv\", header=None)\r\n",
    "dff.to_excel('test.xlsx',header=False, index=False)\r\n",
    "dff.iloc[:,0].values"
   ],
   "outputs": [],
   "metadata": {}
  },
  {
   "cell_type": "code",
   "execution_count": 128,
   "source": [
    "dff = pd.read_excel('2. A1.xlsx', header=None)\r\n",
    "suffix = 'f'\r\n",
    "dff.iloc[:, 1] = dff.iloc[:, 1].apply(lambda x: str(x)+suffix)"
   ],
   "outputs": [],
   "metadata": {}
  },
  {
   "cell_type": "code",
   "execution_count": 72,
   "source": [
    "def get_q_a_n(df):\r\n",
    "    qa_numbers = df.iloc[:,1].unique().tolist()\r\n",
    "    questions = df.iloc[:,[0,1]].drop_duplicates().dropna()\r\n",
    "    answers = df.iloc[:,[1,2]].drop_duplicates().dropna()\r\n",
    "\r\n",
    "    q_d = defaultdict(list)\r\n",
    "    for question in questions.values:\r\n",
    "        q, n = question\r\n",
    "        q_d[n].append(q)\r\n",
    "\r\n",
    "    a_d = defaultdict(list)\r\n",
    "    for answer in answers.values:\r\n",
    "        n, a = answer\r\n",
    "        a_d[n].append(a)\r\n",
    "    return qa_numbers, q_d, a_d\r\n",
    "\r\n",
    "\r\n",
    "def update_qa_base(df):\r\n",
    "    qa_numbers, q_d, a_d = get_q_a_n(df)\r\n",
    "    for n in qa_numbers:\r\n",
    "        qa_base[n] = {\r\n",
    "            \"questions\": q_d[n],\r\n",
    "            \"answer\": a_d[n]\r\n",
    "        }\r\n"
   ],
   "outputs": [],
   "metadata": {}
  },
  {
   "cell_type": "code",
   "execution_count": 129,
   "source": [
    "qa_base = dict()\r\n",
    "df_list = [dfa, dfb, dfc, dfe, dfd, dff]"
   ],
   "outputs": [],
   "metadata": {}
  },
  {
   "cell_type": "code",
   "execution_count": 130,
   "source": [
    "for cur_df in df_list:\r\n",
    "    update_qa_base(cur_df)"
   ],
   "outputs": [],
   "metadata": {}
  },
  {
   "cell_type": "code",
   "execution_count": 131,
   "source": [
    "with open('qa_base.json', 'w', encoding='utf-8') as outfile:\r\n",
    "    json.dump(qa_base, outfile, ensure_ascii=False, indent=4)"
   ],
   "outputs": [],
   "metadata": {}
  },
  {
   "cell_type": "code",
   "execution_count": 147,
   "source": [
    "dfb.columns = dfa.columns"
   ],
   "outputs": [],
   "metadata": {}
  },
  {
   "cell_type": "code",
   "execution_count": 149,
   "source": [
    "dfc"
   ],
   "outputs": [
    {
     "output_type": "execute_result",
     "data": {
      "text/html": [
       "<div>\n",
       "<style scoped>\n",
       "    .dataframe tbody tr th:only-of-type {\n",
       "        vertical-align: middle;\n",
       "    }\n",
       "\n",
       "    .dataframe tbody tr th {\n",
       "        vertical-align: top;\n",
       "    }\n",
       "\n",
       "    .dataframe thead th {\n",
       "        text-align: right;\n",
       "    }\n",
       "</style>\n",
       "<table border=\"1\" class=\"dataframe\">\n",
       "  <thead>\n",
       "    <tr style=\"text-align: right;\">\n",
       "      <th></th>\n",
       "      <th>Вопрос</th>\n",
       "      <th>Номер</th>\n",
       "      <th>Ответ</th>\n",
       "    </tr>\n",
       "  </thead>\n",
       "  <tbody>\n",
       "    <tr>\n",
       "      <th>0</th>\n",
       "      <td>Решение каких задач способствует повышению уро...</td>\n",
       "      <td>27c</td>\n",
       "      <td>Целью настоящего Положения является повышение ...</td>\n",
       "    </tr>\n",
       "    <tr>\n",
       "      <th>1</th>\n",
       "      <td>цель повышения уровня культуры производства</td>\n",
       "      <td>27c</td>\n",
       "      <td>NaN</td>\n",
       "    </tr>\n",
       "    <tr>\n",
       "      <th>2</th>\n",
       "      <td>задачи культуры производства</td>\n",
       "      <td>27c</td>\n",
       "      <td>NaN</td>\n",
       "    </tr>\n",
       "    <tr>\n",
       "      <th>3</th>\n",
       "      <td>Что включает культура производства</td>\n",
       "      <td>28c</td>\n",
       "      <td>Культура производства включает технико-организ...</td>\n",
       "    </tr>\n",
       "    <tr>\n",
       "      <th>4</th>\n",
       "      <td>Каким образом оценивается уровень культуры про...</td>\n",
       "      <td>29c</td>\n",
       "      <td>Культура производства на предприятии оценивает...</td>\n",
       "    </tr>\n",
       "    <tr>\n",
       "      <th>5</th>\n",
       "      <td>Перечислить основные показатели культуры произ...</td>\n",
       "      <td>30c</td>\n",
       "      <td>Основными показателями культуры производства я...</td>\n",
       "    </tr>\n",
       "    <tr>\n",
       "      <th>6</th>\n",
       "      <td>основные показатели культуры производства</td>\n",
       "      <td>30c</td>\n",
       "      <td>NaN</td>\n",
       "    </tr>\n",
       "    <tr>\n",
       "      <th>7</th>\n",
       "      <td>Нормы в рамках культуры производства, которым ...</td>\n",
       "      <td>31c</td>\n",
       "      <td>Нормами культуры производства работника являют...</td>\n",
       "    </tr>\n",
       "    <tr>\n",
       "      <th>8</th>\n",
       "      <td>В чьей компетентности находится поддержание вы...</td>\n",
       "      <td>32c</td>\n",
       "      <td>Организацию и поддержание культуры производств...</td>\n",
       "    </tr>\n",
       "    <tr>\n",
       "      <th>9</th>\n",
       "      <td>кем производится периодическая оценка состояни...</td>\n",
       "      <td>33c</td>\n",
       "      <td>Руководители подразделений (или уполномоченные...</td>\n",
       "    </tr>\n",
       "    <tr>\n",
       "      <th>10</th>\n",
       "      <td>Кем кроме руководителей подразделений может пр...</td>\n",
       "      <td>33c</td>\n",
       "      <td>NaN</td>\n",
       "    </tr>\n",
       "    <tr>\n",
       "      <th>11</th>\n",
       "      <td>Что используется для оценки уровня культуры пр...</td>\n",
       "      <td>34c</td>\n",
       "      <td>Для оценки уровня культуры производства исполь...</td>\n",
       "    </tr>\n",
       "    <tr>\n",
       "      <th>12</th>\n",
       "      <td>Ответственный за уровень культуры производства...</td>\n",
       "      <td>35c</td>\n",
       "      <td>Руководители несут ответственность за уровень ...</td>\n",
       "    </tr>\n",
       "    <tr>\n",
       "      <th>13</th>\n",
       "      <td>Существует ли материальное стимулирование за п...</td>\n",
       "      <td>36c</td>\n",
       "      <td>Материальное стимулирование работников за собл...</td>\n",
       "    </tr>\n",
       "    <tr>\n",
       "      <th>14</th>\n",
       "      <td>Каким образом стимулируется повышение уровня ...</td>\n",
       "      <td>36c</td>\n",
       "      <td>NaN</td>\n",
       "    </tr>\n",
       "    <tr>\n",
       "      <th>15</th>\n",
       "      <td>Как используются результаты работы по развитию...</td>\n",
       "      <td>37c</td>\n",
       "      <td>Результаты работы по развитию культуры произво...</td>\n",
       "    </tr>\n",
       "    <tr>\n",
       "      <th>16</th>\n",
       "      <td>Где применяются результаты работы по развитию ...</td>\n",
       "      <td>37c</td>\n",
       "      <td>NaN</td>\n",
       "    </tr>\n",
       "  </tbody>\n",
       "</table>\n",
       "</div>"
      ],
      "text/plain": [
       "                                               Вопрос Номер  \\\n",
       "0   Решение каких задач способствует повышению уро...   27c   \n",
       "1         цель повышения уровня культуры производства   27c   \n",
       "2                        задачи культуры производства   27c   \n",
       "3                  Что включает культура производства   28c   \n",
       "4   Каким образом оценивается уровень культуры про...   29c   \n",
       "5   Перечислить основные показатели культуры произ...   30c   \n",
       "6           основные показатели культуры производства   30c   \n",
       "7   Нормы в рамках культуры производства, которым ...   31c   \n",
       "8   В чьей компетентности находится поддержание вы...   32c   \n",
       "9   кем производится периодическая оценка состояни...   33c   \n",
       "10  Кем кроме руководителей подразделений может пр...   33c   \n",
       "11  Что используется для оценки уровня культуры пр...   34c   \n",
       "12  Ответственный за уровень культуры производства...   35c   \n",
       "13  Существует ли материальное стимулирование за п...   36c   \n",
       "14   Каким образом стимулируется повышение уровня ...   36c   \n",
       "15  Как используются результаты работы по развитию...   37c   \n",
       "16  Где применяются результаты работы по развитию ...   37c   \n",
       "\n",
       "                                                Ответ  \n",
       "0   Целью настоящего Положения является повышение ...  \n",
       "1                                                 NaN  \n",
       "2                                                 NaN  \n",
       "3   Культура производства включает технико-организ...  \n",
       "4   Культура производства на предприятии оценивает...  \n",
       "5   Основными показателями культуры производства я...  \n",
       "6                                                 NaN  \n",
       "7   Нормами культуры производства работника являют...  \n",
       "8   Организацию и поддержание культуры производств...  \n",
       "9   Руководители подразделений (или уполномоченные...  \n",
       "10                                                NaN  \n",
       "11  Для оценки уровня культуры производства исполь...  \n",
       "12  Руководители несут ответственность за уровень ...  \n",
       "13  Материальное стимулирование работников за собл...  \n",
       "14                                                NaN  \n",
       "15  Результаты работы по развитию культуры произво...  \n",
       "16                                                NaN  "
      ]
     },
     "metadata": {},
     "execution_count": 149
    }
   ],
   "metadata": {}
  },
  {
   "cell_type": "code",
   "execution_count": 52,
   "source": [
    "from collections import defaultdict\r\n",
    "\r\n",
    "# question_numbers = df[\"Номер\"].unique().tolist()\r\n",
    "\r\n",
    "qa = dict()\r\n",
    "\r\n",
    "for qa_raw in df.iloc[:len(df)]:\r\n",
    "    q, n, a = qa_raw\r\n",
    "    # print(q,n,a, sep=\"\\n\")\r\n",
    "    qa[n][\"questions\"] = defaultdict(list)\r\n",
    "    qa[n][\"answer\"] = defaultdict(list)\r\n",
    "\r\n",
    "    if q:\r\n",
    "        raw[\"questions\"].append(q) \r\n",
    "        qa[n][\"questions\"].append(q)\r\n",
    "    if a:\r\n",
    "        raw[\"answer\"].append(a) "
   ],
   "outputs": [
    {
     "output_type": "error",
     "ename": "ValueError",
     "evalue": "too many values to unpack (expected 3)",
     "traceback": [
      "\u001b[1;31m---------------------------------------------------------------------------\u001b[0m",
      "\u001b[1;31mValueError\u001b[0m                                Traceback (most recent call last)",
      "\u001b[1;32m~\\AppData\\Local\\Temp/ipykernel_5028/3113032335.py\u001b[0m in \u001b[0;36m<module>\u001b[1;34m\u001b[0m\n\u001b[0;32m      6\u001b[0m \u001b[1;33m\u001b[0m\u001b[0m\n\u001b[0;32m      7\u001b[0m \u001b[1;32mfor\u001b[0m \u001b[0mqa_raw\u001b[0m \u001b[1;32min\u001b[0m \u001b[0mdf\u001b[0m\u001b[1;33m.\u001b[0m\u001b[0miloc\u001b[0m\u001b[1;33m[\u001b[0m\u001b[1;33m:\u001b[0m\u001b[0mlen\u001b[0m\u001b[1;33m(\u001b[0m\u001b[0mdf\u001b[0m\u001b[1;33m)\u001b[0m\u001b[1;33m]\u001b[0m\u001b[1;33m:\u001b[0m\u001b[1;33m\u001b[0m\u001b[1;33m\u001b[0m\u001b[0m\n\u001b[1;32m----> 8\u001b[1;33m     \u001b[0mq\u001b[0m\u001b[1;33m,\u001b[0m \u001b[0mn\u001b[0m\u001b[1;33m,\u001b[0m \u001b[0ma\u001b[0m \u001b[1;33m=\u001b[0m \u001b[0mqa_raw\u001b[0m\u001b[1;33m\u001b[0m\u001b[1;33m\u001b[0m\u001b[0m\n\u001b[0m\u001b[0;32m      9\u001b[0m     \u001b[1;31m# print(q,n,a, sep=\"\\n\")\u001b[0m\u001b[1;33m\u001b[0m\u001b[1;33m\u001b[0m\u001b[1;33m\u001b[0m\u001b[0m\n\u001b[0;32m     10\u001b[0m     \u001b[0mqa\u001b[0m\u001b[1;33m[\u001b[0m\u001b[0mn\u001b[0m\u001b[1;33m]\u001b[0m\u001b[1;33m[\u001b[0m\u001b[1;34m\"questions\"\u001b[0m\u001b[1;33m]\u001b[0m \u001b[1;33m=\u001b[0m \u001b[0mdefaultdict\u001b[0m\u001b[1;33m(\u001b[0m\u001b[0mlist\u001b[0m\u001b[1;33m)\u001b[0m\u001b[1;33m\u001b[0m\u001b[1;33m\u001b[0m\u001b[0m\n",
      "\u001b[1;31mValueError\u001b[0m: too many values to unpack (expected 3)"
     ]
    }
   ],
   "metadata": {}
  },
  {
   "cell_type": "code",
   "execution_count": null,
   "source": [
    "    \"Устройство на работу\": {\r\n",
    "        \"questions\": [\r\n",
    "            \"Как устроиться к вам на работу?\",\r\n",
    "            \"Как устроиться к вам?\",\r\n",
    "            \"Как работать у вас?\",\r\n",
    "            \"Хочу работать у вас\",\r\n",
    "            \"Возможно-ли устроиться к вам?\",\r\n",
    "            \"Можно-ли мне поработать у вас?\",\r\n",
    "            \"Хочу работать редактором у вас\"\r\n",
    "        ],\r\n",
    "        \"answer\": \"Если вы хотите устроиться к нам, напишите на почту game-of-verbs@gmail.com мини-эссе о себе и прикрепите ваше портфолио.\"\r\n",
    "    },"
   ],
   "outputs": [],
   "metadata": {}
  },
  {
   "cell_type": "code",
   "execution_count": null,
   "source": [
    "ad = { '1a': {'q': \"this is q\"}}\r\n",
    "bd = { '1a': {'a': \"this is a\"}}\r\n",
    "ad.update(bd)"
   ],
   "outputs": [],
   "metadata": {}
  },
  {
   "cell_type": "code",
   "execution_count": null,
   "source": [
    "ad"
   ],
   "outputs": [
    {
     "output_type": "execute_result",
     "data": {
      "text/plain": [
       "{'1a': {'q': 'this is q'}, '2a': {'a': 'this is a'}}"
      ]
     },
     "metadata": {},
     "execution_count": 2
    }
   ],
   "metadata": {}
  }
 ],
 "metadata": {
  "orig_nbformat": 4,
  "language_info": {
   "name": "python",
   "version": "3.8.7",
   "mimetype": "text/x-python",
   "codemirror_mode": {
    "name": "ipython",
    "version": 3
   },
   "pygments_lexer": "ipython3",
   "nbconvert_exporter": "python",
   "file_extension": ".py"
  },
  "kernelspec": {
   "name": "python3",
   "display_name": "Python 3.8.7 64-bit ('.venv': poetry)"
  },
  "interpreter": {
   "hash": "f12eca4e079eede99488e34c2a307f8f6b17bb31ee478beecb5e8d932539076f"
  }
 },
 "nbformat": 4,
 "nbformat_minor": 2
}